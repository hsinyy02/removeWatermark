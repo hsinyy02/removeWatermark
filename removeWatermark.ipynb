{
 "cells": [
  {
   "cell_type": "code",
   "execution_count": 13,
   "metadata": {},
   "outputs": [
    {
     "data": {
      "text/plain": [
       "True"
      ]
     },
     "execution_count": 13,
     "metadata": {},
     "output_type": "execute_result"
    }
   ],
   "source": [
    "import os\n",
    "import cv2\n",
    "import time\n",
    "import numpy as np\n",
    "import matplotlib.pyplot as plt\n",
    "\n",
    "# watermark = [topleft, bottomright]\n",
    "topleft = (116, 285)\n",
    "bottomright = (388, 570)\n",
    "watermark = [topleft, bottomright]\n",
    "\n",
    "xmin, ymin = watermark[0]\n",
    "xmax, ymax = watermark[1]\n",
    "\n",
    "inputfile = \"./test2.jpg\"\n",
    "outputfile = \"./removeWatermark.jpg\"\n",
    "\n",
    "# read img\n",
    "img = cv2.imread(inputfile, cv2.IMREAD_GRAYSCALE)\n",
    "\n",
    "##### for watermark region\n",
    "# apply gaussian filter (smoothing)\n",
    "blur = cv2.GaussianBlur(img,(5,5),0)\n",
    "\n",
    "# Otsu threshold\n",
    "ret,thresh = cv2.threshold(blur,0,255,cv2.THRESH_TRUNC+cv2.THRESH_OTSU)\n",
    "\n",
    "# Otsu threshold again\n",
    "ret2,thresh2 = cv2.threshold(thresh,0,255,cv2.THRESH_BINARY+cv2.THRESH_OTSU)\n",
    "\n",
    "# plt.figure(figsize = (18, 12))\n",
    "# plt.subplot(1, 3, 1)\n",
    "# plt.title(\"blur\")\n",
    "# plt.imshow(blur, 'gray')\n",
    "\n",
    "# plt.subplot(1, 3, 2)\n",
    "# plt.title(\"otsu\")\n",
    "# plt.imshow(thresh, 'gray')\n",
    "\n",
    "# plt.subplot(1, 3, 3)\n",
    "# plt.title(\"otsu_otsu\")\n",
    "# plt.imshow(thresh2, 'gray')\n",
    "\n",
    "# # plt.savefig(\"./result.jpg\")\n",
    "# plt.show()\n",
    "\n",
    "##### for other region\n",
    "\n",
    "# CLAHE\n",
    "clahe = cv2.createCLAHE(clipLimit=2.0, tileGridSize=(8,8))\n",
    "img_clahe = clahe.apply(img)\n",
    "\n",
    "# apply gaussian filter (smoothing)\n",
    "blur_clahe = cv2.GaussianBlur(img_clahe,(5,5),0)\n",
    "\n",
    "# Otsu threshold\n",
    "ret3,thresh3 = cv2.threshold(blur_clahe,0,255,cv2.THRESH_BINARY+cv2.THRESH_OTSU)\n",
    "\n",
    "# plt.figure(figsize = (18, 12))\n",
    "# plt.subplot(1, 3, 1)\n",
    "# plt.title(\"clahe\")\n",
    "# plt.imshow(img_clahe, 'gray')\n",
    "\n",
    "# plt.subplot(1, 3, 2)\n",
    "# plt.title(\"blur_clahe\")\n",
    "# plt.imshow(blur_clahe, 'gray')\n",
    "\n",
    "# plt.subplot(1, 3, 3)\n",
    "# plt.title(\"otsu\")\n",
    "# plt.imshow(thresh3, 'gray')\n",
    "\n",
    "# plt.show()\n",
    "\n",
    "# merge the result\n",
    "result = thresh3.copy()\n",
    "result[ymin:ymax, xmin:xmax] = thresh2[ymin:ymax, xmin:xmax].copy()\n",
    "\n",
    "# save the result image\n",
    "cv2.imwrite(outputfile, result)\n",
    "\n",
    "# plt.figure(figsize = (12, 12))\n",
    "# plt.title(\"result\")\n",
    "# plt.imshow(result, 'gray')\n",
    "# plt.show()"
   ]
  },
  {
   "cell_type": "code",
   "execution_count": null,
   "metadata": {},
   "outputs": [],
   "source": []
  }
 ],
 "metadata": {
  "kernelspec": {
   "display_name": "Python 3",
   "language": "python",
   "name": "python3"
  },
  "language_info": {
   "codemirror_mode": {
    "name": "ipython",
    "version": 3
   },
   "file_extension": ".py",
   "mimetype": "text/x-python",
   "name": "python",
   "nbconvert_exporter": "python",
   "pygments_lexer": "ipython3",
   "version": "3.7.6"
  }
 },
 "nbformat": 4,
 "nbformat_minor": 4
}
